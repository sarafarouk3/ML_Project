{
 "cells": [
  {
   "cell_type": "markdown",
   "metadata": {},
   "source": [
    "### Image Classification with support vector machine\n",
    "\n",
    "1. Import images, resize and prepare data for training."
   ]
  },
  {
   "cell_type": "code",
   "execution_count": null,
   "metadata": {},
   "outputs": [
    {
     "ename": "",
     "evalue": "",
     "output_type": "error",
     "traceback": [
      "\u001b[1;31mJupyter cannot be started. Error attempting to locate Jupyter: Running cells with 'Python 3.9.13 64-bit ('3.9.13')' requires jupyter and notebook package.\n",
      "\u001b[1;31mRun the following command to install 'jupyter and notebook' into the Python environment. \n",
      "\u001b[1;31mCommand: 'python -m pip install jupyter notebook -U\n",
      "\u001b[1;31mor\n",
      "\u001b[1;31mconda install jupyter notebook -U'\n",
      "\u001b[1;31mClick <a href='https://aka.ms/installJupyterForVSCode'>here</a> for more info."
     ]
    }
   ],
   "source": [
    "from skimage.io import imread\n",
    "from skimage.transform import resize\n",
    "import os\n",
    "import numpy as np\n",
    "\n",
    "\n",
    "data_dir_bt='bt-dataset/subset1000'\n",
    "output_img= []\n",
    "input_img=[]\n",
    "flat_img=[]\n",
    "categories_bt=['no', 'yes']\n",
    "\n",
    "\n",
    "for cat1 in categories_bt:\n",
    "  class_num= categories_bt.index(cat1)\n",
    "  path= os.path.join(data_dir_bt, cat1)\n",
    "  for img in os.listdir(path):\n",
    "    img_array1 = imread(os.path.join(path, img))\n",
    "    resized_img=resize(img_array1, (150,150,3))\n",
    "    flat_img.append(np.ndarray.flatten(resized_img))\n",
    "    input_img.append(resized_img)\n",
    "    output_img.append(class_num)\n",
    "  \n",
    "flat_img= np.array(flat_img)\n",
    "input_img= np.array(input_img)\n",
    "output_img= np.array(output_img)"
   ]
  },
  {
   "cell_type": "markdown",
   "metadata": {},
   "source": [
    "### Training the model using Support Vector Machine\n",
    "\n",
    "2. GridSearchCv is used for hyperparameter tuning to find the ideal model architecture. \n",
    "3. Accuracy is computed as a float less than 1."
   ]
  },
  {
   "cell_type": "code",
   "execution_count": null,
   "metadata": {},
   "outputs": [],
   "source": [
    "from sklearn.model_selection import train_test_split\n",
    "x_train, x_test, y_train, y_test= train_test_split(flat_img, output_img, test_size=0.25, random_state=27)\n",
    "     \n",
    "from sklearn.model_selection import GridSearchCV\n",
    "from sklearn import svm\n",
    "clf_bt= GridSearchCV(estimator=svm.SVC(), param_grid= [\n",
    "  {'C': [1, 10, 100, 1000], 'kernel': ['linear']},\n",
    "  {'C': [1, 10, 100, 1000], 'gamma': [0.01, 0.001, 0.0001], 'kernel': ['rbf']},\n",
    " ])\n",
    "clf_bt.fit(x_train, y_train)\n",
    "y_pred=clf_bt.predict(x_test)"
   ]
  },
  {
   "cell_type": "markdown",
   "metadata": {},
   "source": [
    "4. Print accuracy as a percentage"
   ]
  },
  {
   "cell_type": "code",
   "execution_count": null,
   "metadata": {},
   "outputs": [],
   "source": [
    "from sklearn.metrics import accuracy_score,classification_report\n",
    "print(accuracy_score(y_pred,y_test)*100, '%')"
   ]
  },
  {
   "cell_type": "markdown",
   "metadata": {},
   "source": [
    "5. Precision table using classification report "
   ]
  },
  {
   "cell_type": "code",
   "execution_count": null,
   "metadata": {},
   "outputs": [],
   "source": [
    "print(classification_report(y_pred, y_test))"
   ]
  },
  {
   "cell_type": "markdown",
   "metadata": {},
   "source": [
    "### Results\n",
    "\n",
    "Accuracy in Percentage: 90.8 %"
   ]
  },
  {
   "cell_type": "markdown",
   "metadata": {},
   "source": [
    "Percision Table:\n",
    "\n"
   ]
  },
  {
   "cell_type": "markdown",
   "metadata": {},
   "source": [
    "```\n",
    " precision    recall  f1-score   support\n",
    "\n",
    "           0       0.94      0.89      0.91       132\n",
    "           1       0.88      0.93      0.91       118\n",
    "\n",
    "    accuracy                           0.91       250\n",
    "   macro avg       0.91      0.91      0.91       250\n",
    "weighted avg       0.91      0.91      0.91       250\n",
    "```"
   ]
  },
  {
   "cell_type": "markdown",
   "metadata": {},
   "source": []
  }
 ],
 "metadata": {
  "kernelspec": {
   "display_name": "Python 3.9.13 64-bit ('3.9.13')",
   "language": "python",
   "name": "python3"
  },
  "language_info": {
   "name": "python",
   "version": "3.9.13"
  },
  "orig_nbformat": 4,
  "vscode": {
   "interpreter": {
    "hash": "9b007648c6e48ec169d97908f1188682440d563cbc51fb5be80b50960b2738f8"
   }
  }
 },
 "nbformat": 4,
 "nbformat_minor": 2
}
