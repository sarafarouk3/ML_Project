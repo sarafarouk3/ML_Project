{
 "cells": [
  {
   "cell_type": "code",
   "execution_count": 3,
   "id": "b0ed9d1c",
   "metadata": {},
   "outputs": [],
   "source": [
    "import numpy as np\n",
    "import pandas as pd\n",
    "import matplotlib.pyplot as plt\n",
    "from sklearn.metrics import confusion_matrix,accuracy_score"
   ]
  },
  {
   "cell_type": "code",
   "execution_count": 4,
   "id": "10e08ed3",
   "metadata": {},
   "outputs": [],
   "source": [
    "dataset = pd.read_csv(\"data.csv\")"
   ]
  },
  {
   "cell_type": "code",
   "execution_count": 22,
   "id": "58fffd22",
   "metadata": {},
   "outputs": [
    {
     "data": {
      "text/html": [
       "<div>\n",
       "<style scoped>\n",
       "    .dataframe tbody tr th:only-of-type {\n",
       "        vertical-align: middle;\n",
       "    }\n",
       "\n",
       "    .dataframe tbody tr th {\n",
       "        vertical-align: top;\n",
       "    }\n",
       "\n",
       "    .dataframe thead th {\n",
       "        text-align: right;\n",
       "    }\n",
       "</style>\n",
       "<table border=\"1\" class=\"dataframe\">\n",
       "  <thead>\n",
       "    <tr style=\"text-align: right;\">\n",
       "      <th></th>\n",
       "      <th>Unnamed: 0</th>\n",
       "      <th>X53416</th>\n",
       "      <th>M83670</th>\n",
       "      <th>X90908</th>\n",
       "      <th>M97496</th>\n",
       "      <th>X90908.1</th>\n",
       "      <th>U37019</th>\n",
       "      <th>R48602</th>\n",
       "      <th>T96548</th>\n",
       "      <th>X64559</th>\n",
       "      <th>...</th>\n",
       "      <th>H87456</th>\n",
       "      <th>R64130</th>\n",
       "      <th>H11125.1</th>\n",
       "      <th>U22055</th>\n",
       "      <th>L22524</th>\n",
       "      <th>M13699.1</th>\n",
       "      <th>X54489</th>\n",
       "      <th>T55008</th>\n",
       "      <th>M10065.2</th>\n",
       "      <th>y</th>\n",
       "    </tr>\n",
       "  </thead>\n",
       "  <tbody>\n",
       "    <tr>\n",
       "      <th>0</th>\n",
       "      <td>0</td>\n",
       "      <td>70</td>\n",
       "      <td>-81</td>\n",
       "      <td>25</td>\n",
       "      <td>10</td>\n",
       "      <td>22</td>\n",
       "      <td>113</td>\n",
       "      <td>36</td>\n",
       "      <td>163</td>\n",
       "      <td>9</td>\n",
       "      <td>...</td>\n",
       "      <td>75</td>\n",
       "      <td>5</td>\n",
       "      <td>68</td>\n",
       "      <td>138</td>\n",
       "      <td>53</td>\n",
       "      <td>-4</td>\n",
       "      <td>123</td>\n",
       "      <td>2</td>\n",
       "      <td>19</td>\n",
       "      <td>tumor</td>\n",
       "    </tr>\n",
       "    <tr>\n",
       "      <th>1</th>\n",
       "      <td>1</td>\n",
       "      <td>108</td>\n",
       "      <td>-30</td>\n",
       "      <td>-7</td>\n",
       "      <td>60</td>\n",
       "      <td>0</td>\n",
       "      <td>24</td>\n",
       "      <td>8</td>\n",
       "      <td>113</td>\n",
       "      <td>-3</td>\n",
       "      <td>...</td>\n",
       "      <td>186</td>\n",
       "      <td>6</td>\n",
       "      <td>60</td>\n",
       "      <td>93</td>\n",
       "      <td>140</td>\n",
       "      <td>-3</td>\n",
       "      <td>271</td>\n",
       "      <td>-1</td>\n",
       "      <td>-51</td>\n",
       "      <td>tumor</td>\n",
       "    </tr>\n",
       "    <tr>\n",
       "      <th>2</th>\n",
       "      <td>2</td>\n",
       "      <td>75</td>\n",
       "      <td>-1</td>\n",
       "      <td>5</td>\n",
       "      <td>48</td>\n",
       "      <td>6</td>\n",
       "      <td>34</td>\n",
       "      <td>27</td>\n",
       "      <td>35</td>\n",
       "      <td>-1</td>\n",
       "      <td>...</td>\n",
       "      <td>186</td>\n",
       "      <td>225</td>\n",
       "      <td>94</td>\n",
       "      <td>62</td>\n",
       "      <td>39</td>\n",
       "      <td>-14</td>\n",
       "      <td>127</td>\n",
       "      <td>7</td>\n",
       "      <td>192</td>\n",
       "      <td>tumor</td>\n",
       "    </tr>\n",
       "    <tr>\n",
       "      <th>3</th>\n",
       "      <td>3</td>\n",
       "      <td>871</td>\n",
       "      <td>4</td>\n",
       "      <td>14</td>\n",
       "      <td>78</td>\n",
       "      <td>-6</td>\n",
       "      <td>85</td>\n",
       "      <td>65</td>\n",
       "      <td>227</td>\n",
       "      <td>19</td>\n",
       "      <td>...</td>\n",
       "      <td>77</td>\n",
       "      <td>6</td>\n",
       "      <td>78</td>\n",
       "      <td>30</td>\n",
       "      <td>87</td>\n",
       "      <td>-4</td>\n",
       "      <td>59</td>\n",
       "      <td>3</td>\n",
       "      <td>367</td>\n",
       "      <td>tumor</td>\n",
       "    </tr>\n",
       "    <tr>\n",
       "      <th>4</th>\n",
       "      <td>4</td>\n",
       "      <td>-92</td>\n",
       "      <td>-34</td>\n",
       "      <td>14</td>\n",
       "      <td>19</td>\n",
       "      <td>11</td>\n",
       "      <td>-6</td>\n",
       "      <td>27</td>\n",
       "      <td>-8</td>\n",
       "      <td>9</td>\n",
       "      <td>...</td>\n",
       "      <td>87</td>\n",
       "      <td>303</td>\n",
       "      <td>204</td>\n",
       "      <td>81</td>\n",
       "      <td>105</td>\n",
       "      <td>9</td>\n",
       "      <td>265</td>\n",
       "      <td>-2</td>\n",
       "      <td>126</td>\n",
       "      <td>tumor</td>\n",
       "    </tr>\n",
       "  </tbody>\n",
       "</table>\n",
       "<p>5 rows × 7466 columns</p>\n",
       "</div>"
      ],
      "text/plain": [
       "   Unnamed: 0  X53416  M83670  X90908  M97496  X90908.1  U37019  R48602  \\\n",
       "0           0      70     -81      25      10        22     113      36   \n",
       "1           1     108     -30      -7      60         0      24       8   \n",
       "2           2      75      -1       5      48         6      34      27   \n",
       "3           3     871       4      14      78        -6      85      65   \n",
       "4           4     -92     -34      14      19        11      -6      27   \n",
       "\n",
       "   T96548  X64559  ...  H87456  R64130  H11125.1  U22055  L22524  M13699.1  \\\n",
       "0     163       9  ...      75       5        68     138      53        -4   \n",
       "1     113      -3  ...     186       6        60      93     140        -3   \n",
       "2      35      -1  ...     186     225        94      62      39       -14   \n",
       "3     227      19  ...      77       6        78      30      87        -4   \n",
       "4      -8       9  ...      87     303       204      81     105         9   \n",
       "\n",
       "   X54489  T55008  M10065.2      y  \n",
       "0     123       2        19  tumor  \n",
       "1     271      -1       -51  tumor  \n",
       "2     127       7       192  tumor  \n",
       "3      59       3       367  tumor  \n",
       "4     265      -2       126  tumor  \n",
       "\n",
       "[5 rows x 7466 columns]"
      ]
     },
     "execution_count": 22,
     "metadata": {},
     "output_type": "execute_result"
    }
   ],
   "source": [
    "dataset.head()"
   ]
  },
  {
   "cell_type": "code",
   "execution_count": 6,
   "id": "b6f3b841",
   "metadata": {},
   "outputs": [
    {
     "data": {
      "text/plain": [
       "Index(['Unnamed: 0', 'X53416', 'M83670', 'X90908', 'M97496', 'X90908.1',\n",
       "       'U37019', 'R48602', 'T96548', 'X64559',\n",
       "       ...\n",
       "       'H87456', 'R64130', 'H11125.1', 'U22055', 'L22524', 'M13699.1',\n",
       "       'X54489', 'T55008', 'M10065.2', 'y'],\n",
       "      dtype='object', length=7466)"
      ]
     },
     "execution_count": 6,
     "metadata": {},
     "output_type": "execute_result"
    }
   ],
   "source": [
    "dataset.columns"
   ]
  },
  {
   "cell_type": "code",
   "execution_count": 7,
   "id": "518d5bea",
   "metadata": {},
   "outputs": [
    {
     "name": "stdout",
     "output_type": "stream",
     "text": [
      "<class 'pandas.core.frame.DataFrame'>\n",
      "RangeIndex: 36 entries, 0 to 35\n",
      "Columns: 7466 entries, Unnamed: 0 to y\n",
      "dtypes: int64(7465), object(1)\n",
      "memory usage: 2.1+ MB\n"
     ]
    }
   ],
   "source": [
    "dataset.info()"
   ]
  },
  {
   "cell_type": "code",
   "execution_count": 8,
   "id": "357ae2fc",
   "metadata": {},
   "outputs": [
    {
     "data": {
      "text/plain": [
       "Unnamed: 0     int64\n",
       "X53416         int64\n",
       "M83670         int64\n",
       "X90908         int64\n",
       "M97496         int64\n",
       "               ...  \n",
       "M13699.1       int64\n",
       "X54489         int64\n",
       "T55008         int64\n",
       "M10065.2       int64\n",
       "y             object\n",
       "Length: 7466, dtype: object"
      ]
     },
     "execution_count": 8,
     "metadata": {},
     "output_type": "execute_result"
    }
   ],
   "source": [
    "dataset.dtypes"
   ]
  },
  {
   "cell_type": "code",
   "execution_count": 9,
   "id": "e4bdd472",
   "metadata": {},
   "outputs": [
    {
     "data": {
      "text/plain": [
       "Unnamed: 0    0\n",
       "X53416        0\n",
       "M83670        0\n",
       "X90908        0\n",
       "M97496        0\n",
       "             ..\n",
       "M13699.1      0\n",
       "X54489        0\n",
       "T55008        0\n",
       "M10065.2      0\n",
       "y             0\n",
       "Length: 7466, dtype: int64"
      ]
     },
     "execution_count": 9,
     "metadata": {},
     "output_type": "execute_result"
    }
   ],
   "source": [
    "dataset.isnull().sum()"
   ]
  },
  {
   "cell_type": "code",
   "execution_count": 10,
   "id": "3de4d040",
   "metadata": {},
   "outputs": [
    {
     "data": {
      "text/html": [
       "<div>\n",
       "<style scoped>\n",
       "    .dataframe tbody tr th:only-of-type {\n",
       "        vertical-align: middle;\n",
       "    }\n",
       "\n",
       "    .dataframe tbody tr th {\n",
       "        vertical-align: top;\n",
       "    }\n",
       "\n",
       "    .dataframe thead th {\n",
       "        text-align: right;\n",
       "    }\n",
       "</style>\n",
       "<table border=\"1\" class=\"dataframe\">\n",
       "  <thead>\n",
       "    <tr style=\"text-align: right;\">\n",
       "      <th></th>\n",
       "      <th>Unnamed: 0</th>\n",
       "      <th>X53416</th>\n",
       "      <th>M83670</th>\n",
       "      <th>X90908</th>\n",
       "      <th>M97496</th>\n",
       "      <th>X90908.1</th>\n",
       "      <th>U37019</th>\n",
       "      <th>R48602</th>\n",
       "      <th>T96548</th>\n",
       "      <th>X64559</th>\n",
       "      <th>...</th>\n",
       "      <th>D14657</th>\n",
       "      <th>H87456</th>\n",
       "      <th>R64130</th>\n",
       "      <th>H11125.1</th>\n",
       "      <th>U22055</th>\n",
       "      <th>L22524</th>\n",
       "      <th>M13699.1</th>\n",
       "      <th>X54489</th>\n",
       "      <th>T55008</th>\n",
       "      <th>M10065.2</th>\n",
       "    </tr>\n",
       "  </thead>\n",
       "  <tbody>\n",
       "    <tr>\n",
       "      <th>count</th>\n",
       "      <td>36.000000</td>\n",
       "      <td>36.000000</td>\n",
       "      <td>36.000000</td>\n",
       "      <td>36.000000</td>\n",
       "      <td>36.000000</td>\n",
       "      <td>36.000000</td>\n",
       "      <td>36.000000</td>\n",
       "      <td>36.000000</td>\n",
       "      <td>36.000000</td>\n",
       "      <td>36.000000</td>\n",
       "      <td>...</td>\n",
       "      <td>36.000000</td>\n",
       "      <td>36.000000</td>\n",
       "      <td>36.000000</td>\n",
       "      <td>36.000000</td>\n",
       "      <td>36.000000</td>\n",
       "      <td>36.000000</td>\n",
       "      <td>36.000000</td>\n",
       "      <td>36.000000</td>\n",
       "      <td>36.000000</td>\n",
       "      <td>36.000000</td>\n",
       "    </tr>\n",
       "    <tr>\n",
       "      <th>mean</th>\n",
       "      <td>17.500000</td>\n",
       "      <td>378.750000</td>\n",
       "      <td>177.305556</td>\n",
       "      <td>128.027778</td>\n",
       "      <td>568.305556</td>\n",
       "      <td>93.555556</td>\n",
       "      <td>366.833333</td>\n",
       "      <td>140.166667</td>\n",
       "      <td>644.194444</td>\n",
       "      <td>73.444444</td>\n",
       "      <td>...</td>\n",
       "      <td>31.750000</td>\n",
       "      <td>71.111111</td>\n",
       "      <td>35.694444</td>\n",
       "      <td>53.194444</td>\n",
       "      <td>38.388889</td>\n",
       "      <td>40.944444</td>\n",
       "      <td>41.222222</td>\n",
       "      <td>57.027778</td>\n",
       "      <td>58.694444</td>\n",
       "      <td>44.027778</td>\n",
       "    </tr>\n",
       "    <tr>\n",
       "      <th>std</th>\n",
       "      <td>10.535654</td>\n",
       "      <td>648.716067</td>\n",
       "      <td>243.494655</td>\n",
       "      <td>787.935802</td>\n",
       "      <td>637.451928</td>\n",
       "      <td>557.527370</td>\n",
       "      <td>427.166645</td>\n",
       "      <td>171.443202</td>\n",
       "      <td>685.514231</td>\n",
       "      <td>88.504219</td>\n",
       "      <td>...</td>\n",
       "      <td>50.036201</td>\n",
       "      <td>118.940748</td>\n",
       "      <td>127.437115</td>\n",
       "      <td>269.630628</td>\n",
       "      <td>47.619490</td>\n",
       "      <td>83.763935</td>\n",
       "      <td>251.147778</td>\n",
       "      <td>71.322001</td>\n",
       "      <td>336.030766</td>\n",
       "      <td>224.891782</td>\n",
       "    </tr>\n",
       "    <tr>\n",
       "      <th>min</th>\n",
       "      <td>0.000000</td>\n",
       "      <td>-694.000000</td>\n",
       "      <td>-117.000000</td>\n",
       "      <td>-50.000000</td>\n",
       "      <td>8.000000</td>\n",
       "      <td>-54.000000</td>\n",
       "      <td>-6.000000</td>\n",
       "      <td>-18.000000</td>\n",
       "      <td>-8.000000</td>\n",
       "      <td>-8.000000</td>\n",
       "      <td>...</td>\n",
       "      <td>-21.000000</td>\n",
       "      <td>-24.000000</td>\n",
       "      <td>-12.000000</td>\n",
       "      <td>-1484.000000</td>\n",
       "      <td>-73.000000</td>\n",
       "      <td>-16.000000</td>\n",
       "      <td>-23.000000</td>\n",
       "      <td>-5.000000</td>\n",
       "      <td>-17.000000</td>\n",
       "      <td>-214.000000</td>\n",
       "    </tr>\n",
       "    <tr>\n",
       "      <th>25%</th>\n",
       "      <td>8.750000</td>\n",
       "      <td>-95.750000</td>\n",
       "      <td>-31.000000</td>\n",
       "      <td>-13.250000</td>\n",
       "      <td>47.250000</td>\n",
       "      <td>-7.000000</td>\n",
       "      <td>27.250000</td>\n",
       "      <td>17.750000</td>\n",
       "      <td>33.250000</td>\n",
       "      <td>8.250000</td>\n",
       "      <td>...</td>\n",
       "      <td>1.500000</td>\n",
       "      <td>9.000000</td>\n",
       "      <td>-1.250000</td>\n",
       "      <td>59.250000</td>\n",
       "      <td>12.750000</td>\n",
       "      <td>3.500000</td>\n",
       "      <td>-4.750000</td>\n",
       "      <td>7.000000</td>\n",
       "      <td>-5.000000</td>\n",
       "      <td>-72.750000</td>\n",
       "    </tr>\n",
       "    <tr>\n",
       "      <th>50%</th>\n",
       "      <td>17.500000</td>\n",
       "      <td>194.500000</td>\n",
       "      <td>117.000000</td>\n",
       "      <td>-4.500000</td>\n",
       "      <td>293.500000</td>\n",
       "      <td>3.000000</td>\n",
       "      <td>110.500000</td>\n",
       "      <td>37.500000</td>\n",
       "      <td>333.500000</td>\n",
       "      <td>37.500000</td>\n",
       "      <td>...</td>\n",
       "      <td>10.000000</td>\n",
       "      <td>55.500000</td>\n",
       "      <td>3.000000</td>\n",
       "      <td>94.000000</td>\n",
       "      <td>36.000000</td>\n",
       "      <td>7.000000</td>\n",
       "      <td>0.000000</td>\n",
       "      <td>20.000000</td>\n",
       "      <td>1.500000</td>\n",
       "      <td>-12.000000</td>\n",
       "    </tr>\n",
       "    <tr>\n",
       "      <th>75%</th>\n",
       "      <td>26.250000</td>\n",
       "      <td>721.750000</td>\n",
       "      <td>330.500000</td>\n",
       "      <td>14.000000</td>\n",
       "      <td>1079.250000</td>\n",
       "      <td>10.250000</td>\n",
       "      <td>675.000000</td>\n",
       "      <td>268.500000</td>\n",
       "      <td>1185.250000</td>\n",
       "      <td>107.750000</td>\n",
       "      <td>...</td>\n",
       "      <td>48.000000</td>\n",
       "      <td>78.750000</td>\n",
       "      <td>6.000000</td>\n",
       "      <td>121.250000</td>\n",
       "      <td>64.000000</td>\n",
       "      <td>39.500000</td>\n",
       "      <td>6.500000</td>\n",
       "      <td>98.250000</td>\n",
       "      <td>7.000000</td>\n",
       "      <td>74.250000</td>\n",
       "    </tr>\n",
       "    <tr>\n",
       "      <th>max</th>\n",
       "      <td>35.000000</td>\n",
       "      <td>1815.000000</td>\n",
       "      <td>718.000000</td>\n",
       "      <td>4723.000000</td>\n",
       "      <td>2261.000000</td>\n",
       "      <td>3344.000000</td>\n",
       "      <td>1354.000000</td>\n",
       "      <td>718.000000</td>\n",
       "      <td>2203.000000</td>\n",
       "      <td>357.000000</td>\n",
       "      <td>...</td>\n",
       "      <td>156.000000</td>\n",
       "      <td>686.000000</td>\n",
       "      <td>686.000000</td>\n",
       "      <td>251.000000</td>\n",
       "      <td>138.000000</td>\n",
       "      <td>444.000000</td>\n",
       "      <td>1505.000000</td>\n",
       "      <td>271.000000</td>\n",
       "      <td>2018.000000</td>\n",
       "      <td>1089.000000</td>\n",
       "    </tr>\n",
       "  </tbody>\n",
       "</table>\n",
       "<p>8 rows × 7465 columns</p>\n",
       "</div>"
      ],
      "text/plain": [
       "       Unnamed: 0       X53416      M83670       X90908       M97496  \\\n",
       "count   36.000000    36.000000   36.000000    36.000000    36.000000   \n",
       "mean    17.500000   378.750000  177.305556   128.027778   568.305556   \n",
       "std     10.535654   648.716067  243.494655   787.935802   637.451928   \n",
       "min      0.000000  -694.000000 -117.000000   -50.000000     8.000000   \n",
       "25%      8.750000   -95.750000  -31.000000   -13.250000    47.250000   \n",
       "50%     17.500000   194.500000  117.000000    -4.500000   293.500000   \n",
       "75%     26.250000   721.750000  330.500000    14.000000  1079.250000   \n",
       "max     35.000000  1815.000000  718.000000  4723.000000  2261.000000   \n",
       "\n",
       "          X90908.1       U37019      R48602       T96548      X64559  ...  \\\n",
       "count    36.000000    36.000000   36.000000    36.000000   36.000000  ...   \n",
       "mean     93.555556   366.833333  140.166667   644.194444   73.444444  ...   \n",
       "std     557.527370   427.166645  171.443202   685.514231   88.504219  ...   \n",
       "min     -54.000000    -6.000000  -18.000000    -8.000000   -8.000000  ...   \n",
       "25%      -7.000000    27.250000   17.750000    33.250000    8.250000  ...   \n",
       "50%       3.000000   110.500000   37.500000   333.500000   37.500000  ...   \n",
       "75%      10.250000   675.000000  268.500000  1185.250000  107.750000  ...   \n",
       "max    3344.000000  1354.000000  718.000000  2203.000000  357.000000  ...   \n",
       "\n",
       "           D14657      H87456      R64130     H11125.1      U22055  \\\n",
       "count   36.000000   36.000000   36.000000    36.000000   36.000000   \n",
       "mean    31.750000   71.111111   35.694444    53.194444   38.388889   \n",
       "std     50.036201  118.940748  127.437115   269.630628   47.619490   \n",
       "min    -21.000000  -24.000000  -12.000000 -1484.000000  -73.000000   \n",
       "25%      1.500000    9.000000   -1.250000    59.250000   12.750000   \n",
       "50%     10.000000   55.500000    3.000000    94.000000   36.000000   \n",
       "75%     48.000000   78.750000    6.000000   121.250000   64.000000   \n",
       "max    156.000000  686.000000  686.000000   251.000000  138.000000   \n",
       "\n",
       "           L22524     M13699.1      X54489       T55008     M10065.2  \n",
       "count   36.000000    36.000000   36.000000    36.000000    36.000000  \n",
       "mean    40.944444    41.222222   57.027778    58.694444    44.027778  \n",
       "std     83.763935   251.147778   71.322001   336.030766   224.891782  \n",
       "min    -16.000000   -23.000000   -5.000000   -17.000000  -214.000000  \n",
       "25%      3.500000    -4.750000    7.000000    -5.000000   -72.750000  \n",
       "50%      7.000000     0.000000   20.000000     1.500000   -12.000000  \n",
       "75%     39.500000     6.500000   98.250000     7.000000    74.250000  \n",
       "max    444.000000  1505.000000  271.000000  2018.000000  1089.000000  \n",
       "\n",
       "[8 rows x 7465 columns]"
      ]
     },
     "execution_count": 10,
     "metadata": {},
     "output_type": "execute_result"
    }
   ],
   "source": [
    "dataset.describe()"
   ]
  },
  {
   "cell_type": "code",
   "execution_count": 11,
   "id": "13ac9dc3",
   "metadata": {},
   "outputs": [
    {
     "data": {
      "text/plain": [
       "tumor     18\n",
       "Normal    18\n",
       "Name: y, dtype: int64"
      ]
     },
     "execution_count": 11,
     "metadata": {},
     "output_type": "execute_result"
    }
   ],
   "source": [
    "dataset.y.value_counts()"
   ]
  },
  {
   "cell_type": "code",
   "execution_count": 33,
   "id": "97f47084",
   "metadata": {},
   "outputs": [
    {
     "name": "stdout",
     "output_type": "stream",
     "text": [
      "['tumor' 'tumor' 'tumor' 'tumor' 'tumor' 'tumor' 'tumor' 'tumor' 'tumor'\n",
      " 'tumor' 'tumor' 'tumor' 'tumor' 'tumor' 'tumor' 'tumor' 'tumor' 'tumor'\n",
      " 'Normal' 'Normal' 'Normal' 'Normal' 'Normal' 'Normal' 'Normal' 'Normal'\n",
      " 'Normal' 'Normal' 'Normal' 'Normal' 'Normal' 'Normal' 'Normal' 'Normal'\n",
      " 'Normal' 'Normal']\n"
     ]
    }
   ],
   "source": [
    "X=dataset.iloc[:,:-1].values\n",
    "y=dataset.iloc[:,-1].values\n",
    "print(y)\n"
   ]
  },
  {
   "cell_type": "code",
   "execution_count": 25,
   "id": "e3ec7bb7",
   "metadata": {},
   "outputs": [
    {
     "name": "stdout",
     "output_type": "stream",
     "text": [
      "[1 1 1 1 1 1 1 1 1 1 1 1 1 1 1 1 1 1 0 0 0 0 0 0 0 0 0 0 0 0 0 0 0 0 0 0]\n"
     ]
    }
   ],
   "source": [
    "from sklearn.preprocessing import LabelEncoder\n",
    "le=LabelEncoder()\n",
    "y=le.fit_transform(y)\n",
    "print(y)"
   ]
  },
  {
   "cell_type": "code",
   "execution_count": 14,
   "id": "7619a424",
   "metadata": {},
   "outputs": [],
   "source": [
    "from sklearn.model_selection import train_test_split\n",
    "X_train, X_test, y_train, y_test = train_test_split(X,y,test_size=.2,random_state=0)"
   ]
  },
  {
   "cell_type": "code",
   "execution_count": 15,
   "id": "652a0151",
   "metadata": {},
   "outputs": [],
   "source": [
    "from sklearn.preprocessing import StandardScaler\n",
    "sc=StandardScaler()\n",
    "X_train=sc.fit_transform(X_train)\n",
    "X_test=sc.transform(X_test)"
   ]
  },
  {
   "cell_type": "code",
   "execution_count": 16,
   "id": "88c3a553",
   "metadata": {},
   "outputs": [
    {
     "data": {
      "text/plain": [
       "1.0"
      ]
     },
     "execution_count": 16,
     "metadata": {},
     "output_type": "execute_result"
    }
   ],
   "source": [
    "from sklearn.linear_model import LogisticRegression\n",
    "classifier=LogisticRegression()\n",
    "classifier.fit(X_train,y_train)\n",
    "\n",
    "y_pred_LogisticRegression=classifier.predict(X_test)\n",
    "accuracy_score(y_test,y_pred_LogisticRegression)"
   ]
  },
  {
   "cell_type": "code",
   "execution_count": 17,
   "id": "57fd15b3",
   "metadata": {},
   "outputs": [
    {
     "data": {
      "text/plain": [
       "1.0"
      ]
     },
     "execution_count": 17,
     "metadata": {},
     "output_type": "execute_result"
    }
   ],
   "source": [
    "from sklearn.neighbors import KNeighborsClassifier\n",
    "KNN=KNeighborsClassifier(n_neighbors=5,metric=\"minkowski\",p=2)\n",
    "KNN.fit(X_train,y_train)\n",
    "\n",
    "y_pred_KNN=KNN.predict(X_test)\n",
    "accuracy_score(y_test,y_pred_KNN)"
   ]
  },
  {
   "cell_type": "code",
   "execution_count": 18,
   "id": "3b727fec",
   "metadata": {},
   "outputs": [
    {
     "data": {
      "text/plain": [
       "1.0"
      ]
     },
     "execution_count": 18,
     "metadata": {},
     "output_type": "execute_result"
    }
   ],
   "source": [
    "from sklearn.ensemble import RandomForestClassifier\n",
    "RFC=RandomForestClassifier(n_estimators=3,criterion=\"entropy\",random_state=0)\n",
    "RFC.fit(X_train,y_train)\n",
    "\n",
    "y_pred_RFC=RFC.predict(X_test)\n",
    "accuracy_score(y_test,y_pred_RFC)"
   ]
  },
  {
   "cell_type": "code",
   "execution_count": null,
   "id": "11da9f3f",
   "metadata": {},
   "outputs": [],
   "source": [
    "from sklearn.naive_bayes import GaussianNB\n",
    "NB=GaussianNB(n_estimators=3,criterion=\"entropy\",random_state=0)\n",
    "NB.fit(X_train,y_train)\n",
    "\n",
    "y_pred_NB=NB.predict(X_test)\n",
    "accuracy_score(y_test,y_pred_NB)"
   ]
  }
 ],
 "metadata": {
  "kernelspec": {
   "display_name": "Python 3 (ipykernel)",
   "language": "python",
   "name": "python3"
  },
  "language_info": {
   "codemirror_mode": {
    "name": "ipython",
    "version": 3
   },
   "file_extension": ".py",
   "mimetype": "text/x-python",
   "name": "python",
   "nbconvert_exporter": "python",
   "pygments_lexer": "ipython3",
   "version": "3.9.7"
  }
 },
 "nbformat": 4,
 "nbformat_minor": 5
}
